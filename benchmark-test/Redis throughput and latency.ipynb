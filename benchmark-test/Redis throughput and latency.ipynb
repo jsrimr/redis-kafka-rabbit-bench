{
 "cells": [
  {
   "cell_type": "markdown",
   "metadata": {},
   "source": [
    "# Throughput\n",
    "\n",
    "- publisher와 subsriber의 throughput 각각 동시에 측정\n"
   ]
  },
  {
   "cell_type": "code",
   "execution_count": null,
   "metadata": {},
   "outputs": [],
   "source": [
    "import sys\n",
    "import time\n",
    "import redis\n",
    "import datetime\n",
    "from multiprocessing import Process\n",
    "import sys\n",
    "\n",
    "def pub(myredis):     #pubsliher\n",
    "    start = datetime.datetime.now()\n",
    "    cnt = 0\n",
    "    while True:\n",
    "        myredis.publish('channel', time.time())\n",
    "        if datetime.datetime.now() > start + datetime.timedelta(seconds=10):  #pubulisher가 10초 동안 msg 보냄\n",
    "            break\n",
    "        cnt+=1\n",
    "    print(f\"published {cnt / 10} msgs\")  #publisher throughput 측정\n",
    "\n",
    "def sub(myredis, name):  #subscriber\n",
    "    pubsub = myredis.pubsub()\n",
    "    pubsub.subscribe(['channel'])\n",
    "\n",
    "    start = datetime.datetime.now()\n",
    "    cnt = 0\n",
    "\n",
    "    for _ in pubsub.listen():\n",
    "        cnt+=1\n",
    "        if datetime.datetime.now() > start + datetime.timedelta(seconds=10):  #10초 동안 subsriber 가 listen\n",
    "            break\n",
    "\n",
    "    print(f\"sub throughput {cnt / 10}\")  #subsriber throughput 측정\n",
    "\n",
    "if __name__ == '__main__':\n",
    "    # timer()\n",
    "    myredis = redis.StrictRedis(socket_timeout=15)  #sub이 for 문에 갇힐 수 있을므로 socket_timeout 설정\n",
    "\n",
    "    sub = Process(target=sub, kwargs={'myredis': myredis, 'name': 'reader1'}) \n",
    "    sub.start()\n",
    "\n",
    "    pub = Process(target=pub , args=[myredis, ])\n",
    "    pub.start()\n",
    "\n",
    "    procs = [sub,pub]\n",
    "\n",
    "    for proc in procs:\n",
    "        proc.join()"
   ]
  },
  {
   "cell_type": "markdown",
   "metadata": {},
   "source": [
    "# Latency"
   ]
  },
  {
   "cell_type": "markdown",
   "metadata": {},
   "source": [
    "1. publisher"
   ]
  },
  {
   "cell_type": "code",
   "execution_count": null,
   "metadata": {},
   "outputs": [],
   "source": [
    "import time\n",
    "import redis\n",
    "\n",
    "def pub(myredis,s=1000):\n",
    "    for n in range(s):\n",
    "        myredis.publish('channel',time.time())\n",
    "\n",
    "\n",
    "if __name__ == '__main__':\n",
    "    myredis = redis.StrictRedis()\n",
    "    pub(myredis)"
   ]
  },
  {
   "cell_type": "markdown",
   "metadata": {},
   "source": [
    "2. subscriber"
   ]
  },
  {
   "cell_type": "code",
   "execution_count": null,
   "metadata": {},
   "outputs": [],
   "source": [
    "import sys\n",
    "import time\n",
    "import redis\n",
    "import datetime\n",
    "\n",
    "\n",
    "def sub(myredis, name):\n",
    "    pubsub = myredis.pubsub()\n",
    "    pubsub.subscribe(['channel'])\n",
    "\n",
    "    latency_list = []\n",
    "    Append = latency_list.append  #append 를 더 빠르게 하기 위함\n",
    "\n",
    "    try:\n",
    "        for item in pubsub.listen():\n",
    "            latency = time.time()- float(item['data'])   #latency 계산\n",
    "            print(f\"arrived time {time.time()} departure time {item['data']}, latency : {latency}\")\n",
    "            Append(latency)    \n",
    "    except:  #10초 지나면 timeout error 발생\n",
    "        latency_list= latency_list[1:]  #초기값 제외-> 초기값은 publisher에서 보낸 값이 아니라 다른 값\n",
    "        print(\"latency average:\" , sum(latency_list) / len(latency_list))   #latency의 평균을 구함\n",
    "\n",
    "\n",
    "if __name__ == '__main__':\n",
    "\n",
    "    myredis = redis.StrictRedis(socket_timeout=10)  #subscriber가 10초간 listen, sub이 for문에 갇히는 것 방지\n",
    "    sub(myredis, 'reader1')"
   ]
  },
  {
   "cell_type": "code",
   "execution_count": null,
   "metadata": {},
   "outputs": [],
   "source": []
  }
 ],
 "metadata": {
  "kernelspec": {
   "display_name": "test",
   "language": "python",
   "name": "benchmark"
  },
  "language_info": {
   "codemirror_mode": {
    "name": "ipython",
    "version": 3
   },
   "file_extension": ".py",
   "mimetype": "text/x-python",
   "name": "python",
   "nbconvert_exporter": "python",
   "pygments_lexer": "ipython3",
   "version": "3.7.4"
  }
 },
 "nbformat": 4,
 "nbformat_minor": 2
}
